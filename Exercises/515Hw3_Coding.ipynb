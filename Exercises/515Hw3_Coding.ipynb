{
 "cells": [
  {
   "cell_type": "markdown",
   "metadata": {},
   "source": [
    "# AMATH 515 Homework 3\n",
    "\n",
    "**Due Date: 03/03/2021 at 23:59 PM PDT**\n",
    "\n",
    "*Homework Instruction*: Please follow order of this notebook and fill in the codes where commented as `TODO`. **please submit both** `proxes.py` **and** `515Hw3_Coding.ipynb` to Gradescope. You'll have **10 attempts** to pass the tests."
   ]
  },
  {
   "cell_type": "code",
   "execution_count": 1,
   "metadata": {},
   "outputs": [],
   "source": [
    "import numpy as np\n",
    "import matplotlib.pyplot as plt\n",
    "plt.style.use('ggplot')"
   ]
  },
  {
   "cell_type": "markdown",
   "metadata": {},
   "source": [
    "# Problem 5"
   ]
  },
  {
   "cell_type": "markdown",
   "metadata": {},
   "source": [
    "## Please complete the code in `proxes.py`"
   ]
  },
  {
   "cell_type": "code",
   "execution_count": 2,
   "metadata": {},
   "outputs": [],
   "source": [
    "import sys\n",
    "sys.path.append('./')\n",
    "from proxes import *"
   ]
  },
  {
   "cell_type": "markdown",
   "metadata": {},
   "source": [
    "## Test cases"
   ]
  },
  {
   "cell_type": "code",
   "execution_count": 3,
   "metadata": {},
   "outputs": [],
   "source": [
    "np.random.seed(124)\n",
    "m = 5\n",
    "n = 2\n",
    "k = 1\n",
    "z = np.random.randn(m, n)\n",
    "x = np.zeros((m, n))"
   ]
  },
  {
   "cell_type": "code",
   "execution_count": 4,
   "metadata": {},
   "outputs": [],
   "source": [
    "for i in range(m):\n",
    "    x[i] = prox_csimplex(z[i], k)"
   ]
  },
  {
   "cell_type": "code",
   "execution_count": 5,
   "metadata": {},
   "outputs": [
    {
     "name": "stdout",
     "output_type": "stream",
     "text": [
      "[[0.87571657 0.12428343]\n",
      " [0.         1.        ]\n",
      " [0.14058588 0.85941412]\n",
      " [0.         1.        ]\n",
      " [1.         0.        ]]\n"
     ]
    }
   ],
   "source": [
    "#==GRADED==#\n",
    "print(x)"
   ]
  },
  {
   "cell_type": "markdown",
   "metadata": {},
   "source": [
    "If you did everything right then the projections of the points on the plot below should be sitting on the black interval that connects [0,1] and [1,0]"
   ]
  },
  {
   "cell_type": "code",
   "execution_count": 6,
   "metadata": {},
   "outputs": [
    {
     "data": {
      "text/plain": [
       "(-1.6232447306802724,\n",
       " 1.8058687966990605,\n",
       " -0.9018258603599083,\n",
       " 2.470293840568626)"
      ]
     },
     "execution_count": 6,
     "metadata": {},
     "output_type": "execute_result"
    },
    {
     "data": {
      "image/png": "[encoded data removed]",
      "text/plain": [
       "<Figure size 432x288 with 1 Axes>"
      ]
     },
     "metadata": {},
     "output_type": "display_data"
    }
   ],
   "source": [
    "plt.clf()\n",
    "plt.arrow(-0.5,  0.0,  2.0,  0.0, head_width=0.1,color='black')\n",
    "plt.arrow( 0.0, -0.5,  0.0,  2.0, head_width=0.1,color='black')\n",
    "plt.plot([0.0, 1.0], [1.0, 0.0], '-k')\n",
    "for i in range(m):\n",
    "    plt.plot([z[i][0], x[i][0]], [z[i][1], x[i][1]], 'o--')\n",
    "plt.axis('equal')"
   ]
  },
  {
   "cell_type": "markdown",
   "metadata": {},
   "source": [
    "# Problem 6"
   ]
  },
  {
   "cell_type": "code",
   "execution_count": 7,
   "metadata": {},
   "outputs": [],
   "source": [
    "# Build a dataset for matrix completion\n",
    "import numpy as np\n",
    "import matplotlib.pyplot as plt\n",
    "from solvers import optimizeWithAPGD\n",
    "from proxes import prox_csimplex\n",
    "from proxes import prox_l1"
   ]
  },
  {
   "cell_type": "code",
   "execution_count": 8,
   "metadata": {},
   "outputs": [],
   "source": [
    "d=250\n",
    "rank=5\n",
    "#Only see 8% of the entries\n",
    "mask_prob=0.08\n",
    "\n",
    "gen=np.random.default_rng(seed=515)\n",
    "original_matrix=gen.standard_normal(size=(d,d))\n",
    "\n",
    "P=gen.binomial(1,mask_prob,(d,d))\n",
    "\n",
    "U,sigma,Vt=np.linalg.svd(original_matrix)\n",
    "sigma[rank:]=0\n",
    "X=(U@np.diag(sigma)@Vt)\n",
    "X=X/np.sqrt(np.mean(X**2))\n",
    "\n",
    "X_observed=X*P"
   ]
  },
  {
   "cell_type": "code",
   "execution_count": 9,
   "metadata": {},
   "outputs": [],
   "source": [
    "def reconstruction_loss(Y):\n",
    "    \"\"\"This is our out of sample reconstruction loss. Only for evaluation!\n",
    "    \"\"\"\n",
    "    return np.mean((Y-X)**2)\n",
    "\n",
    "\n",
    "def l2_loss(Y):\n",
    "    return np.sum(P*((Y-X_observed)**2))/2\n",
    "\n",
    "def l2_grad(Y):\n",
    "    # TODO Write the gradient of f\n",
    "    return P*(Y-X_observed)\n",
    "\n",
    "def nuclear_norm(Y):\n",
    "    return np.linalg.norm(Y,'nuc')    "
   ]
  },
  {
   "cell_type": "code",
   "execution_count": 10,
   "metadata": {},
   "outputs": [],
   "source": [
    "##==GRADED==##\n",
    "\n",
    "proxes_test_matrix=np.array([\n",
    "    [1,3,5],\n",
    "    [2,1,4],\n",
    "    [1,1,1]\n",
    "])\n",
    "\n",
    "nuclear_prox_test=nuclear_prox(proxes_test_matrix,1.5)\n",
    "rank_proj_test=rank_project(proxes_test_matrix,2)"
   ]
  },
  {
   "cell_type": "code",
   "execution_count": 11,
   "metadata": {},
   "outputs": [],
   "source": [
    "def apgd_nuclear_norm_completion(Y0,lam):\n",
    "    Y_sol,obj_his,err_his,exit_flag=optimizeWithAPGD(\n",
    "        Y0,\n",
    "        l2_loss,\n",
    "        lambda x:lam*nuclear_norm(x),\n",
    "        l2_grad,\n",
    "        lambda x,t:nuclear_prox(x,lam*t),\n",
    "        beta_f=1,\n",
    "        max_iter=1000,\n",
    "        tol=1e-3\n",
    "    )\n",
    "\n",
    "    return Y_sol,obj_his,err_his,exit_flag\n",
    "\n",
    "def apgd_rank_constrained_completion(Y0,k):\n",
    "    Y_sol,obj_his,err_his,exit_flag=optimizeWithAPGD(\n",
    "        Y0,\n",
    "        l2_loss,\n",
    "        lambda x:0,\n",
    "        l2_grad,\n",
    "        lambda x,t:rank_project(x,k),\n",
    "        beta_f=1,\n",
    "        max_iter=1000,\n",
    "        tol=1e-5\n",
    "    )\n",
    "    return Y_sol,obj_his,err_his,exit_flag"
   ]
  },
  {
   "cell_type": "markdown",
   "metadata": {},
   "source": [
    "## Solve an example"
   ]
  },
  {
   "cell_type": "code",
   "execution_count": 12,
   "metadata": {},
   "outputs": [
    {
     "name": "stdout",
     "output_type": "stream",
     "text": [
      "Proximal gradient descent reach maximum of iteration\n"
     ]
    },
    {
     "data": {
      "text/plain": [
       "[<matplotlib.lines.Line2D at 0x7f712403d9b0>]"
      ]
     },
     "execution_count": 12,
     "metadata": {},
     "output_type": "execute_result"
    },
    {
     "data": {
      "image/png": "[encoded data removed]",
      "text/plain": [
       "<Figure size 432x288 with 1 Axes>"
      ]
     },
     "metadata": {},
     "output_type": "display_data"
    }
   ],
   "source": [
    "##==GRADED==##\n",
    "\n",
    "#Initialize with the observed entries\n",
    "Y0=X_observed.copy()\n",
    "lam=0.2\n",
    "\n",
    "nuclear_example_sol,obj_his,err_his,exit_flag=apgd_nuclear_norm_completion(Y0,lam)\n",
    "\n",
    "# example_sol is graded here\n",
    "plt.plot(np.log10(err_his))\n",
    "\n",
    "#This won't reach precision fast enough, just let it run fo the 1000 iterations we set."
   ]
  },
  {
   "cell_type": "code",
   "execution_count": 13,
   "metadata": {},
   "outputs": [
    {
     "name": "stdout",
     "output_type": "stream",
     "text": [
      "Rank of our recovered matrix: 32\n",
      "Reconstruction error on the full dataset: 0.09742500840774082\n",
      "Note that the original entrywise variance is 1, so in some sense our recovered estimates are about 90% accurate, using only 8% of the data\n"
     ]
    }
   ],
   "source": [
    "print(\"Rank of our recovered matrix:\",(np.sum(np.linalg.svd(nuclear_example_sol)[1]>1e-6)))\n",
    "\n",
    "#This should be a little bit below 0.1\n",
    "reconstruction_error=reconstruction_loss(nuclear_example_sol)\n",
    "print(\"Reconstruction error on the full dataset:\",reconstruction_error)\n",
    "\n",
    "print(\"Note that the original entrywise variance is 1, \\\n",
    "so in some sense our recovered estimates are about 90% accurate, using only 8% of the data\")"
   ]
  },
  {
   "cell_type": "markdown",
   "metadata": {},
   "source": [
    "## Sweep through many values of lambda"
   ]
  },
  {
   "cell_type": "code",
   "execution_count": 15,
   "metadata": {},
   "outputs": [
    {
     "name": "stdout",
     "output_type": "stream",
     "text": [
      "Proximal gradient descent reach maximum of iteration\n",
      "Proximal gradient descent reach maximum of iteration\n",
      "Proximal gradient descent reach maximum of iteration\n",
      "Proximal gradient descent reach maximum of iteration\n",
      "Proximal gradient descent reach maximum of iteration\n"
     ]
    }
   ],
   "source": [
    "lam_vals=np.append(np.arange(0.25,3,0.25)[::-1],np.array([0.1,0.05,0.01]))\n",
    "##==GRADED==##\n",
    "#TODO Sweep through each of values in lam_vals\n",
    "#Compute the nuclear norm regularized matrix completion\n",
    "#   for each value of lambda in lam_vals\n",
    "Y_solution_list = []\n",
    "for i in range(len(lam_vals)):\n",
    "    nnmat,obj_his,err_his,exit_flag = apgd_nuclear_norm_completion(Y0,lam_vals[i])\n",
    "    Y_solution_list.append(nnmat)\n",
    "#     return Y_solution_list\n",
    "\n",
    "# Y_solution_list should be a python list of the solutions (2d array) for each regularization strength\n",
    "# Y_solution_list[i] is the solution with the regularization strength lam_vals[i]"
   ]
  },
  {
   "cell_type": "code",
   "execution_count": 16,
   "metadata": {},
   "outputs": [],
   "source": [
    "## Graded ##\n",
    "nuc_parameter_sweep_solutions=np.array(Y_solution_list)"
   ]
  },
  {
   "cell_type": "code",
   "execution_count": 17,
   "metadata": {},
   "outputs": [
    {
     "data": {
      "text/plain": [
       "Text(0.5, 1.0, 'Overall Reconstruction Error')"
      ]
     },
     "execution_count": 17,
     "metadata": {},
     "output_type": "execute_result"
    },
    {
     "data": {
      "image/png": "[encoded data removed]",
      "text/plain": [
       "<Figure size 432x288 with 1 Axes>"
      ]
     },
     "metadata": {},
     "output_type": "display_data"
    }
   ],
   "source": [
    "plt.plot(lam_vals,[reconstruction_loss(y) for y in Y_solution_list])\n",
    "plt.ylabel(\"Reconstruction error\")\n",
    "plt.xlabel(\"Regularization strength lambda\")\n",
    "plt.title(\"Overall Reconstruction Error\")"
   ]
  },
  {
   "cell_type": "markdown",
   "metadata": {},
   "source": [
    "You should find that as lambda goes to 0, the reconstruction error goes down. This is because we begin to approximate a certain semidefinite programming problem, minimizing nuclear norm subject to the observed entries being exactly correct. This problem has very good theoretical guarantees, including exact recovery under certain conditions!\n",
    "\n",
    "See this Candes and Tao paper if you're interested: https://arxiv.org/abs/0903.1476"
   ]
  },
  {
   "cell_type": "markdown",
   "metadata": {},
   "source": [
    "#### Just because the set of matrices with constrained rank isn't convex, doesn't mean that we can't try accelerated projected gradient descent on it! We warm start with the last solution generated from nuclear norm regularization. "
   ]
  },
  {
   "cell_type": "code",
   "execution_count": 18,
   "metadata": {},
   "outputs": [
    {
     "name": "stdout",
     "output_type": "stream",
     "text": [
      "Proximal gradient descent reach maximum of iteration\n",
      "Rank 5 reconstruction loss: 7.273914309830427e-10\n"
     ]
    },
    {
     "data": {
      "image/png": "[encoded data removed]",
      "text/plain": [
       "<Figure size 432x288 with 1 Axes>"
      ]
     },
     "metadata": {},
     "output_type": "display_data"
    }
   ],
   "source": [
    "Y_rank5,obj_his,err_his,exit_flag=apgd_rank_constrained_completion(Y_solution_list[-1],5)\n",
    "\n",
    "plt.plot(np.log10(err_his))\n",
    "nonconvex_reconstruction=reconstruction_loss(Y_rank5)\n",
    "print(\"Rank 5 reconstruction loss:\",nonconvex_reconstruction)"
   ]
  },
  {
   "cell_type": "markdown",
   "metadata": {},
   "source": [
    "You should find that we have exact recovery of the original matrix X by using this non-convex constraint despite only observing 8% of the entries. I find this **truly remarkable!**"
   ]
  }
 ],
 "metadata": {
  "kernelspec": {
   "display_name": "Python 3.9",
   "language": "python",
   "name": "python3.9"
  },
  "language_info": {
   "codemirror_mode": {
    "name": "ipython",
    "version": 3
   },
   "file_extension": ".py",
   "mimetype": "text/x-python",
   "name": "python",
   "nbconvert_exporter": "python",
   "pygments_lexer": "ipython3",
   "version": "3.6.8"
  },
  "varInspector": {
   "cols": {
    "lenName": 16,
    "lenType": 16,
    "lenVar": 40
   },
   "kernels_config": {
    "python": {
     "delete_cmd_postfix": "",
     "delete_cmd_prefix": "del ",
     "library": "var_list.py",
     "varRefreshCmd": "print(var_dic_list())"
    },
    "r": {
     "delete_cmd_postfix": ") ",
     "delete_cmd_prefix": "rm(",
     "library": "var_list.r",
     "varRefreshCmd": "cat(var_dic_list()) "
    }
   },
   "types_to_exclude": [
    "module",
    "function",
    "builtin_function_or_method",
    "instance",
    "_Feature"
   ],
   "window_display": false
  },
  "vscode": {
   "interpreter": {
    "hash": "4305e4dd096d3b07644ed9367958f26f20ce2e59d964c522587ff506aeedb069"
   }
  }
 },
 "nbformat": 4,
 "nbformat_minor": 2
}
